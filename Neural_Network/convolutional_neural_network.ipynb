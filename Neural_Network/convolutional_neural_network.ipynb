{
  "nbformat": 4,
  "nbformat_minor": 0,
  "metadata": {
    "colab": {
      "name": "convolutional_neural_network.ipynb",
      "provenance": [],
      "authorship_tag": "ABX9TyOWOUHQNqb/cI+/JFSB4ag0",
      "include_colab_link": true
    },
    "kernelspec": {
      "name": "python3",
      "display_name": "Python 3"
    },
    "language_info": {
      "name": "python"
    }
  },
  "cells": [
    {
      "cell_type": "markdown",
      "metadata": {
        "id": "view-in-github",
        "colab_type": "text"
      },
      "source": [
        "<a href=\"https://colab.research.google.com/github/RahinaBintang/KecerdasanBuatan/blob/main/Neural_Network/convolutional_neural_network.ipynb\" target=\"_parent\"><img src=\"https://colab.research.google.com/assets/colab-badge.svg\" alt=\"Open In Colab\"/></a>"
      ]
    },
    {
      "cell_type": "code",
      "metadata": {
        "colab": {
          "base_uri": "https://localhost:8080/"
        },
        "id": "TSVhrJs8G4SS",
        "outputId": "02f8cba1-e80f-4b74-ee62-6bcfe24920a8"
      },
      "source": [
        "# Download dataset\n",
        "!wget --load-cookies /tmp/cookies.txt \"https://docs.google.com/uc?export=download&confirm=$(wget --quiet --save-cookies /tmp/cookies.txt --keep-session-cookies --no-check-certificate 'https://docs.google.com/uc?export=download&id=1pdIpR40UeylaxicX-aROLtwxn0miQHb_' -O- | sed -rn 's/.*confirm=([0-9A-Za-z_]+).*/\\1\\n/p')&id=1pdIpR40UeylaxicX-aROLtwxn0miQHb_\" -O Dataset.zip && rm -rf /tmp/cookies.txt"
      ],
      "execution_count": 1,
      "outputs": [
        {
          "output_type": "stream",
          "name": "stdout",
          "text": [
            "--2021-11-23 00:35:25--  https://docs.google.com/uc?export=download&confirm=5llG&id=1pdIpR40UeylaxicX-aROLtwxn0miQHb_\n",
            "Resolving docs.google.com (docs.google.com)... 142.250.128.101, 142.250.128.113, 142.250.128.102, ...\n",
            "Connecting to docs.google.com (docs.google.com)|142.250.128.101|:443... connected.\n",
            "HTTP request sent, awaiting response... 302 Moved Temporarily\n",
            "Location: https://doc-14-44-docs.googleusercontent.com/docs/securesc/ternbigb957ocrtk9mk2vc24m95qjrfj/ag1f8aatj5i3secis2f049tatq77se07/1637627700000/11002468481254343632/12990353976239377146Z/1pdIpR40UeylaxicX-aROLtwxn0miQHb_?e=download [following]\n",
            "--2021-11-23 00:35:25--  https://doc-14-44-docs.googleusercontent.com/docs/securesc/ternbigb957ocrtk9mk2vc24m95qjrfj/ag1f8aatj5i3secis2f049tatq77se07/1637627700000/11002468481254343632/12990353976239377146Z/1pdIpR40UeylaxicX-aROLtwxn0miQHb_?e=download\n",
            "Resolving doc-14-44-docs.googleusercontent.com (doc-14-44-docs.googleusercontent.com)... 74.125.124.132, 2607:f8b0:4001:c14::84\n",
            "Connecting to doc-14-44-docs.googleusercontent.com (doc-14-44-docs.googleusercontent.com)|74.125.124.132|:443... connected.\n",
            "HTTP request sent, awaiting response... 302 Found\n",
            "Location: https://docs.google.com/nonceSigner?nonce=a3obp1a7280hq&continue=https://doc-14-44-docs.googleusercontent.com/docs/securesc/ternbigb957ocrtk9mk2vc24m95qjrfj/ag1f8aatj5i3secis2f049tatq77se07/1637627700000/11002468481254343632/12990353976239377146Z/1pdIpR40UeylaxicX-aROLtwxn0miQHb_?e%3Ddownload&hash=l8kj9qo80fi0bl3je9j25gvricagcubg [following]\n",
            "--2021-11-23 00:35:25--  https://docs.google.com/nonceSigner?nonce=a3obp1a7280hq&continue=https://doc-14-44-docs.googleusercontent.com/docs/securesc/ternbigb957ocrtk9mk2vc24m95qjrfj/ag1f8aatj5i3secis2f049tatq77se07/1637627700000/11002468481254343632/12990353976239377146Z/1pdIpR40UeylaxicX-aROLtwxn0miQHb_?e%3Ddownload&hash=l8kj9qo80fi0bl3je9j25gvricagcubg\n",
            "Connecting to docs.google.com (docs.google.com)|142.250.128.101|:443... connected.\n",
            "HTTP request sent, awaiting response... 302 Found\n",
            "Location: https://doc-14-44-docs.googleusercontent.com/docs/securesc/ternbigb957ocrtk9mk2vc24m95qjrfj/ag1f8aatj5i3secis2f049tatq77se07/1637627700000/11002468481254343632/12990353976239377146Z/1pdIpR40UeylaxicX-aROLtwxn0miQHb_?e=download&nonce=a3obp1a7280hq&user=12990353976239377146Z&hash=1d640iapp7789npsoq2p4bdsfvovtl47 [following]\n",
            "--2021-11-23 00:35:25--  https://doc-14-44-docs.googleusercontent.com/docs/securesc/ternbigb957ocrtk9mk2vc24m95qjrfj/ag1f8aatj5i3secis2f049tatq77se07/1637627700000/11002468481254343632/12990353976239377146Z/1pdIpR40UeylaxicX-aROLtwxn0miQHb_?e=download&nonce=a3obp1a7280hq&user=12990353976239377146Z&hash=1d640iapp7789npsoq2p4bdsfvovtl47\n",
            "Connecting to doc-14-44-docs.googleusercontent.com (doc-14-44-docs.googleusercontent.com)|74.125.124.132|:443... connected.\n",
            "HTTP request sent, awaiting response... 200 OK\n",
            "Length: 120689992 (115M) [application/x-zip-compressed]\n",
            "Saving to: ‘Dataset.zip’\n",
            "\n",
            "Dataset.zip         100%[===================>] 115.10M  88.4MB/s    in 1.3s    \n",
            "\n",
            "2021-11-23 00:35:27 (88.4 MB/s) - ‘Dataset.zip’ saved [120689992/120689992]\n",
            "\n"
          ]
        }
      ]
    },
    {
      "cell_type": "code",
      "metadata": {
        "id": "AsqGvq51Mz4p"
      },
      "source": [
        "import os\n",
        "import zipfile\n",
        "\n",
        "local_zip = 'Dataset.zip'\n",
        "zip_ref = zipfile.ZipFile(local_zip, 'r')\n",
        "zip_ref.extractall()\n",
        "zip_ref.close()"
      ],
      "execution_count": 2,
      "outputs": []
    },
    {
      "cell_type": "code",
      "metadata": {
        "id": "aAUnioNCM3Nq"
      },
      "source": [
        "# Definisikan path untuk data train dan data validation\n",
        "\n",
        "base_dir = 'Dataset'\n",
        "\n",
        "train_dir = os.path.join(base_dir, 'train')\n",
        "validation_dir = os.path.join(base_dir, 'validation')"
      ],
      "execution_count": 3,
      "outputs": []
    },
    {
      "cell_type": "code",
      "metadata": {
        "id": "h2AQWN5eNFyW"
      },
      "source": [
        "import cv2\n",
        "import numpy as np\n",
        "\n",
        "# Gather data train\n",
        "train_data = []\n",
        "train_label = []\n",
        "for r, d, f in os.walk(train_dir):\n",
        "    for file in f:\n",
        "        if \".jpg\" in file:\n",
        "            imagePath = os.path.join(r, file)\n",
        "            image = cv2.imread(imagePath)\n",
        "            image = cv2.resize(image, (150,150))\n",
        "            train_data.append(image)\n",
        "            label = imagePath.split(os.path.sep)[-2]\n",
        "            train_label.append(label)\n",
        "\n",
        "train_data = np.array(train_data)\n",
        "train_label = np.array(train_label)"
      ],
      "execution_count": 4,
      "outputs": []
    },
    {
      "cell_type": "code",
      "metadata": {
        "id": "9xJBdE67NJST"
      },
      "source": [
        "# Gather data validation\n",
        "val_data = []\n",
        "val_label = []\n",
        "for r, d, f in os.walk(validation_dir):\n",
        "    for file in f:\n",
        "        if \".jpg\" in file:\n",
        "            imagePath = os.path.join(r, file)\n",
        "            image = cv2.imread(imagePath)\n",
        "            image = cv2.resize(image, (150,150))\n",
        "            val_data.append(image)\n",
        "            label = imagePath.split(os.path.sep)[-2]\n",
        "            val_label.append(label)\n",
        "\n",
        "val_data = np.array(val_data)\n",
        "val_label = np.array(val_label)"
      ],
      "execution_count": 5,
      "outputs": []
    },
    {
      "cell_type": "markdown",
      "metadata": {
        "id": "XGJKSxzUNWPV"
      },
      "source": [
        "DATA PREPROCESSING"
      ]
    },
    {
      "cell_type": "code",
      "metadata": {
        "colab": {
          "base_uri": "https://localhost:8080/"
        },
        "id": "SHKqeH7cNYt0",
        "outputId": "41c59f3c-1134-4ff0-d23f-1c70f2650bb8"
      },
      "source": [
        "# Tampilkan shape dari data train dan data validation\n",
        "print(\"Train Data = \", train_data.shape)\n",
        "print(\"Train Label = \", train_label.shape)\n",
        "print(\"Validation Data = \", val_data.shape)\n",
        "print(\"Validation Label = \", val_label.shape)"
      ],
      "execution_count": 6,
      "outputs": [
        {
          "output_type": "stream",
          "name": "stdout",
          "text": [
            "Train Data =  (50, 150, 150, 3)\n",
            "Train Label =  (50,)\n",
            "Validation Data =  (50, 150, 150, 3)\n",
            "Validation Label =  (50,)\n"
          ]
        }
      ]
    },
    {
      "cell_type": "code",
      "metadata": {
        "colab": {
          "base_uri": "https://localhost:8080/"
        },
        "id": "GI3h2WGwNa_2",
        "outputId": "8fee4924-a64b-4c3a-d4be-839d85cf9e52"
      },
      "source": [
        "# Normalisasi dataset\n",
        "print(\"Data sebelum di-normalisasi \", train_data[0][0][0])\n",
        "\n",
        "x_train = train_data.astype('float32') / 255.0\n",
        "x_val = val_data.astype('float32') / 255.0\n",
        "print(\"Data setelah di-normalisasi \", x_train[0][0][0])"
      ],
      "execution_count": 7,
      "outputs": [
        {
          "output_type": "stream",
          "name": "stdout",
          "text": [
            "Data sebelum di-normalisasi  [208 199 196]\n",
            "Data setelah di-normalisasi  [0.8156863  0.78039217 0.76862746]\n"
          ]
        }
      ]
    },
    {
      "cell_type": "code",
      "metadata": {
        "colab": {
          "base_uri": "https://localhost:8080/"
        },
        "id": "Dk-4FJQkNdDI",
        "outputId": "e53ae35c-c87a-4d3e-cb92-a62259f71cbf"
      },
      "source": [
        "# Transformasi label encoder\n",
        "from sklearn.preprocessing import LabelEncoder\n",
        "\n",
        "print(\"Label sebelum di-encoder \", train_label[23:27])\n",
        "\n",
        "lb = LabelEncoder()\n",
        "y_train = lb.fit_transform(train_label)\n",
        "y_val = lb.fit_transform(val_label)\n",
        "\n",
        "print(\"Label setelah di-encoder \", y_train[23:27])"
      ],
      "execution_count": 20,
      "outputs": [
        {
          "output_type": "stream",
          "name": "stdout",
          "text": [
            "Label sebelum di-encoder  ['DaunJeruk' 'DaunJeruk' 'DaunKemangi' 'DaunKemangi']\n",
            "Label setelah di-encoder  [0 0 1 1]\n"
          ]
        }
      ]
    },
    {
      "cell_type": "markdown",
      "metadata": {
        "id": "coCmlxYwNg4k"
      },
      "source": [
        "DEFINISIKAN MODEL"
      ]
    },
    {
      "cell_type": "code",
      "metadata": {
        "id": "GxKWBFmNNfQW"
      },
      "source": [
        "from tensorflow.keras.models import Sequential\n",
        "from tensorflow.keras.layers import InputLayer, Dense, Conv2D, MaxPool2D, Flatten"
      ],
      "execution_count": 9,
      "outputs": []
    },
    {
      "cell_type": "code",
      "metadata": {
        "id": "IvivoCvBNkXj"
      },
      "source": [
        "# Feature Extraction Layer\n",
        "model = Sequential()\n",
        "\n",
        "model.add(InputLayer(input_shape=[150,150,3]))\n",
        "model.add(Conv2D(filters=16, kernel_size=3, strides=1, padding='same', activation='relu'))\n",
        "model.add(MaxPool2D(pool_size=2, padding='same'))\n",
        "model.add(Conv2D(filters=32, kernel_size=3, strides=1, padding='same', activation='relu'))\n",
        "model.add(MaxPool2D(pool_size=2, padding='same'))\n",
        "model.add(Conv2D(filters=64, kernel_size=3, strides=1, padding='same', activation='relu'))\n",
        "model.add(MaxPool2D(pool_size=2, padding='same'))\n",
        "model.add(Flatten())"
      ],
      "execution_count": 10,
      "outputs": []
    },
    {
      "cell_type": "code",
      "metadata": {
        "id": "2AWU94RJNlqa"
      },
      "source": [
        "# Fully Connected Layer\n",
        "model.add(Dense(128, activation='relu'))\n",
        "model.add(Dense(1, activation='sigmoid'))"
      ],
      "execution_count": 11,
      "outputs": []
    },
    {
      "cell_type": "code",
      "metadata": {
        "colab": {
          "base_uri": "https://localhost:8080/"
        },
        "id": "r8qi5Mu-Nm5f",
        "outputId": "cc9fdbe8-3fc5-4050-a639-b4445fe7c161"
      },
      "source": [
        "# Print model summary\n",
        "print(model.summary())"
      ],
      "execution_count": 12,
      "outputs": [
        {
          "output_type": "stream",
          "name": "stdout",
          "text": [
            "Model: \"sequential\"\n",
            "_________________________________________________________________\n",
            " Layer (type)                Output Shape              Param #   \n",
            "=================================================================\n",
            " conv2d (Conv2D)             (None, 150, 150, 16)      448       \n",
            "                                                                 \n",
            " max_pooling2d (MaxPooling2D  (None, 75, 75, 16)       0         \n",
            " )                                                               \n",
            "                                                                 \n",
            " conv2d_1 (Conv2D)           (None, 75, 75, 32)        4640      \n",
            "                                                                 \n",
            " max_pooling2d_1 (MaxPooling  (None, 38, 38, 32)       0         \n",
            " 2D)                                                             \n",
            "                                                                 \n",
            " conv2d_2 (Conv2D)           (None, 38, 38, 64)        18496     \n",
            "                                                                 \n",
            " max_pooling2d_2 (MaxPooling  (None, 19, 19, 64)       0         \n",
            " 2D)                                                             \n",
            "                                                                 \n",
            " flatten (Flatten)           (None, 23104)             0         \n",
            "                                                                 \n",
            " dense (Dense)               (None, 128)               2957440   \n",
            "                                                                 \n",
            " dense_1 (Dense)             (None, 1)                 129       \n",
            "                                                                 \n",
            "=================================================================\n",
            "Total params: 2,981,153\n",
            "Trainable params: 2,981,153\n",
            "Non-trainable params: 0\n",
            "_________________________________________________________________\n",
            "None\n"
          ]
        }
      ]
    },
    {
      "cell_type": "code",
      "metadata": {
        "colab": {
          "base_uri": "https://localhost:8080/"
        },
        "id": "98gZV5axNn_a",
        "outputId": "87794a69-62e4-4c45-c1c3-85a8e8857f52"
      },
      "source": [
        "# Compile model\n",
        "from tensorflow.keras.optimizers import Adam\n",
        "\n",
        "model.compile(optimizer=Adam(lr=0.001), \n",
        "              loss='binary_crossentropy', \n",
        "              metrics=['acc'])"
      ],
      "execution_count": 13,
      "outputs": [
        {
          "output_type": "stream",
          "name": "stderr",
          "text": [
            "/usr/local/lib/python3.7/dist-packages/keras/optimizer_v2/adam.py:105: UserWarning: The `lr` argument is deprecated, use `learning_rate` instead.\n",
            "  super(Adam, self).__init__(name, **kwargs)\n"
          ]
        }
      ]
    },
    {
      "cell_type": "markdown",
      "metadata": {
        "id": "rWTxEtB-Nroy"
      },
      "source": [
        "TRANING MODEL"
      ]
    },
    {
      "cell_type": "code",
      "metadata": {
        "colab": {
          "base_uri": "https://localhost:8080/"
        },
        "id": "NIQRUy2xNqF3",
        "outputId": "30c599a0-0e13-48fa-d1b7-36fa81fe04d1"
      },
      "source": [
        "H = model.fit(x_train, y_train, batch_size=20, epochs=15, validation_data=(x_val, y_val))"
      ],
      "execution_count": 14,
      "outputs": [
        {
          "output_type": "stream",
          "name": "stdout",
          "text": [
            "Epoch 1/15\n",
            "3/3 [==============================] - 3s 625ms/step - loss: 1.3320 - acc: 0.4200 - val_loss: 0.8228 - val_acc: 0.5000\n",
            "Epoch 2/15\n",
            "3/3 [==============================] - 1s 508ms/step - loss: 0.8328 - acc: 0.5000 - val_loss: 0.7023 - val_acc: 0.5000\n",
            "Epoch 3/15\n",
            "3/3 [==============================] - 1s 503ms/step - loss: 0.6874 - acc: 0.5000 - val_loss: 0.6723 - val_acc: 1.0000\n",
            "Epoch 4/15\n",
            "3/3 [==============================] - 1s 513ms/step - loss: 0.6669 - acc: 0.7200 - val_loss: 0.6691 - val_acc: 0.5000\n",
            "Epoch 5/15\n",
            "3/3 [==============================] - 1s 509ms/step - loss: 0.6581 - acc: 0.5000 - val_loss: 0.6281 - val_acc: 0.5000\n",
            "Epoch 6/15\n",
            "3/3 [==============================] - 1s 519ms/step - loss: 0.6085 - acc: 0.5200 - val_loss: 0.5285 - val_acc: 1.0000\n",
            "Epoch 7/15\n",
            "3/3 [==============================] - 1s 515ms/step - loss: 0.5297 - acc: 1.0000 - val_loss: 0.4083 - val_acc: 1.0000\n",
            "Epoch 8/15\n",
            "3/3 [==============================] - 1s 507ms/step - loss: 0.4326 - acc: 0.9400 - val_loss: 0.2687 - val_acc: 1.0000\n",
            "Epoch 9/15\n",
            "3/3 [==============================] - 1s 504ms/step - loss: 0.2860 - acc: 1.0000 - val_loss: 0.1347 - val_acc: 1.0000\n",
            "Epoch 10/15\n",
            "3/3 [==============================] - 1s 504ms/step - loss: 0.1430 - acc: 1.0000 - val_loss: 0.0641 - val_acc: 1.0000\n",
            "Epoch 11/15\n",
            "3/3 [==============================] - 1s 513ms/step - loss: 0.0470 - acc: 1.0000 - val_loss: 0.0204 - val_acc: 1.0000\n",
            "Epoch 12/15\n",
            "3/3 [==============================] - 1s 506ms/step - loss: 0.0248 - acc: 1.0000 - val_loss: 0.0016 - val_acc: 1.0000\n",
            "Epoch 13/15\n",
            "3/3 [==============================] - 1s 512ms/step - loss: 0.0016 - acc: 1.0000 - val_loss: 0.0011 - val_acc: 1.0000\n",
            "Epoch 14/15\n",
            "3/3 [==============================] - 1s 508ms/step - loss: 0.0019 - acc: 1.0000 - val_loss: 2.0728e-04 - val_acc: 1.0000\n",
            "Epoch 15/15\n",
            "3/3 [==============================] - 1s 505ms/step - loss: 2.3265e-04 - acc: 1.0000 - val_loss: 1.0229e-05 - val_acc: 1.0000\n"
          ]
        }
      ]
    },
    {
      "cell_type": "markdown",
      "metadata": {
        "id": "Wr0jXntsNyL6"
      },
      "source": [
        "EVALUASI MODEL"
      ]
    },
    {
      "cell_type": "code",
      "metadata": {
        "colab": {
          "base_uri": "https://localhost:8080/",
          "height": 299
        },
        "id": "z0SN0ZyJNz9q",
        "outputId": "9f397f35-7245-4a07-8a1f-6765660a1f4c"
      },
      "source": [
        "%matplotlib inline\n",
        "\n",
        "import matplotlib.pyplot as plt\n",
        "\n",
        "plt.style.use(\"ggplot\")\n",
        "plt.figure()\n",
        "plt.plot(np.arange(0, 15), H.history[\"loss\"], label=\"train_loss\")\n",
        "plt.plot(np.arange(0, 15), H.history[\"val_loss\"], label=\"val_loss\")\n",
        "plt.title(\"Loss Plot\")\n",
        "plt.xlabel(\"Epoch #\")\n",
        "plt.ylabel(\"Loss\")\n",
        "plt.legend()\n",
        "plt.show()"
      ],
      "execution_count": 15,
      "outputs": [
        {
          "output_type": "display_data",
          "data": {
            "image/png": "[encoded data removed]",
            "text/plain": [
              "<Figure size 432x288 with 1 Axes>"
            ]
          },
          "metadata": {}
        }
      ]
    },
    {
      "cell_type": "code",
      "metadata": {
        "colab": {
          "base_uri": "https://localhost:8080/",
          "height": 299
        },
        "id": "o1iAW5K_N6pm",
        "outputId": "3208fb80-d573-4e26-987d-0e06e4207b0b"
      },
      "source": [
        "plt.style.use(\"ggplot\")\n",
        "plt.figure()\n",
        "plt.plot(np.arange(0, 15), H.history[\"acc\"], label=\"train_acc\")\n",
        "plt.plot(np.arange(0, 15), H.history[\"val_acc\"], label=\"val_acc\")\n",
        "plt.title(\"Accuracy Plot\")\n",
        "plt.xlabel(\"Epoch #\")\n",
        "plt.ylabel(\"Acc\")\n",
        "plt.legend()\n",
        "plt.show()"
      ],
      "execution_count": 16,
      "outputs": [
        {
          "output_type": "display_data",
          "data": {
            "image/png": "[encoded data removed]",
            "text/plain": [
              "<Figure size 432x288 with 1 Axes>"
            ]
          },
          "metadata": {}
        }
      ]
    },
    {
      "cell_type": "code",
      "metadata": {
        "colab": {
          "base_uri": "https://localhost:8080/"
        },
        "id": "K5WUlE6CN8Wx",
        "outputId": "11c8e13c-d3e6-414d-c1c3-a2a0d6f0a305"
      },
      "source": [
        "from sklearn.metrics import classification_report\n",
        "\n",
        "pred = model.predict(x_val)\n",
        "labels = (pred > 0.5).astype(np.int)\n",
        "\n",
        "print(classification_report(y_val, labels))"
      ],
      "execution_count": 17,
      "outputs": [
        {
          "output_type": "stream",
          "name": "stdout",
          "text": [
            "              precision    recall  f1-score   support\n",
            "\n",
            "           0       1.00      1.00      1.00        25\n",
            "           1       1.00      1.00      1.00        25\n",
            "\n",
            "    accuracy                           1.00        50\n",
            "   macro avg       1.00      1.00      1.00        50\n",
            "weighted avg       1.00      1.00      1.00        50\n",
            "\n"
          ]
        }
      ]
    }
  ]
}